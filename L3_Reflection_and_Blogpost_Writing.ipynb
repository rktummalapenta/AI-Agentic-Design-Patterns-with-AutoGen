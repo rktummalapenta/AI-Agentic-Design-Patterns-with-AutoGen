{
 "cells": [
  {
   "cell_type": "markdown",
   "id": "fc3024e2",
   "metadata": {},
   "source": [
    "# Lesson 3: Reflection and Blogpost Writing"
   ]
  },
  {
   "cell_type": "markdown",
   "id": "3b0cc42f",
   "metadata": {},
   "source": [
    "## Setup"
   ]
  },
  {
   "cell_type": "code",
   "execution_count": 1,
   "id": "96d39be0-eaf3-456d-8613-ba21099ed36b",
   "metadata": {
    "height": 30
   },
   "outputs": [],
   "source": [
    "from dotenv import load_dotenv, find_dotenv\n",
    "from utils import get_openai_api_key\n",
    "_ = load_dotenv(override=True)\n",
    "OPENAI_API_KEY = get_openai_api_key()\n",
    "llm_config = {\"model\": \"gpt-3.5-turbo\"}"
   ]
  },
  {
   "cell_type": "markdown",
   "id": "0969e6bb",
   "metadata": {},
   "source": [
    "## The task!"
   ]
  },
  {
   "cell_type": "code",
   "execution_count": 2,
   "id": "e8074032-3690-4de9-ad08-ea8323cb441b",
   "metadata": {
    "height": 115
   },
   "outputs": [],
   "source": [
    "task = '''\n",
    "        Write a concise but engaging blogpost about\n",
    "       DeepLearning.AI. Make sure the blogpost is\n",
    "       within 100 words.\n",
    "       '''\n"
   ]
  },
  {
   "cell_type": "markdown",
   "id": "1987f023",
   "metadata": {},
   "source": [
    "## Create a writer agent"
   ]
  },
  {
   "cell_type": "code",
   "execution_count": 3,
   "id": "fe0f0a47-a9fe-43a0-b7b1-79922e4c4ac8",
   "metadata": {
    "height": 183
   },
   "outputs": [
    {
     "name": "stdout",
     "output_type": "stream",
     "text": [
      "[autogen.oai.client: 01-18 16:32:13] {129} WARNING - The API key specified is not a valid OpenAI format; it won't work with the OpenAI-hosted model.\n"
     ]
    },
    {
     "name": "stderr",
     "output_type": "stream",
     "text": [
      "/Users/ravikumartummalapenta/Documents/github/rktummalapenta/AI-Agents-in-LangGraph/.agents_env/lib/python3.11/site-packages/flaml/__init__.py:20: UserWarning: flaml.automl is not available. Please install flaml[automl] to enable AutoML functionalities.\n",
      "  warnings.warn(\"flaml.automl is not available. Please install flaml[automl] to enable AutoML functionalities.\")\n"
     ]
    }
   ],
   "source": [
    "import autogen\n",
    "\n",
    "writer = autogen.AssistantAgent(\n",
    "    name=\"Writer\",\n",
    "    system_message=\"You are a writer. You write engaging and concise \" \n",
    "        \"blogpost (with title) on given topics. You must polish your \"\n",
    "        \"writing based on the feedback you receive and give a refined \"\n",
    "        \"version. Only return your final work without additional comments.\",\n",
    "    llm_config=llm_config,\n",
    ")"
   ]
  },
  {
   "cell_type": "code",
   "execution_count": 4,
   "id": "7c7b4d8d-40f7-4a05-8958-25d20054de3a",
   "metadata": {
    "height": 30
   },
   "outputs": [],
   "source": [
    "reply = writer.generate_reply(messages=[{\"content\": task, \"role\": \"user\"}])"
   ]
  },
  {
   "cell_type": "code",
   "execution_count": 5,
   "id": "c501c97d-e338-4f36-a384-6ec45983cf77",
   "metadata": {
    "height": 30
   },
   "outputs": [
    {
     "name": "stdout",
     "output_type": "stream",
     "text": [
      "Title: Unveiling the Power of DeepLearning.AI\n",
      "\n",
      "Dive into the world of artificial intelligence with DeepLearning.AI, a platform revolutionizing how we interact with technology. From cutting-edge courses to practical applications, DeepLearning.AI offers a gateway to mastering deep learning. Whether you're a beginner or an expert, the platform provides the tools and resources needed to thrive in this rapidly evolving field. Join a community of like-minded individuals and embark on a journey towards innovation and discovery. Explore the endless possibilities with DeepLearning.AI and unlock the potential of AI today!\n"
     ]
    }
   ],
   "source": [
    "print(reply)"
   ]
  },
  {
   "cell_type": "markdown",
   "id": "49658114",
   "metadata": {},
   "source": [
    "## Adding reflection \n",
    "\n",
    "Create a critic agent to reflect on the work of the writer agent."
   ]
  },
  {
   "cell_type": "code",
   "execution_count": 6,
   "id": "c7fcd1c7-51ec-4915-8e97-bac03565c4c7",
   "metadata": {
    "height": 149
   },
   "outputs": [
    {
     "name": "stdout",
     "output_type": "stream",
     "text": [
      "[autogen.oai.client: 01-18 16:32:23] {129} WARNING - The API key specified is not a valid OpenAI format; it won't work with the OpenAI-hosted model.\n"
     ]
    }
   ],
   "source": [
    "critic = autogen.AssistantAgent(\n",
    "    name=\"Critic\",\n",
    "    is_termination_msg=lambda x: x.get(\"content\", \"\").find(\"TERMINATE\") >= 0,\n",
    "    llm_config=llm_config,\n",
    "    system_message=\"You are a critic. You review the work of \"\n",
    "                \"the writer and provide constructive \"\n",
    "                \"feedback to help improve the quality of the content.\",\n",
    ")"
   ]
  },
  {
   "cell_type": "code",
   "execution_count": 9,
   "id": "899d5fdb-6081-470b-b287-8cf8b8142d0d",
   "metadata": {
    "height": 115
   },
   "outputs": [
    {
     "name": "stdout",
     "output_type": "stream",
     "text": [
      "\u001b[33mCritic\u001b[0m (to Writer):\n",
      "\n",
      "\n",
      "        Write a concise but engaging blogpost about\n",
      "       DeepLearning.AI. Make sure the blogpost is\n",
      "       within 100 words.\n",
      "       \n",
      "\n",
      "--------------------------------------------------------------------------------\n",
      "\u001b[33mWriter\u001b[0m (to Critic):\n",
      "\n",
      "Title: Unveiling the Power of DeepLearning.AI\n",
      "\n",
      "Dive into the world of artificial intelligence with DeepLearning.AI, a platform revolutionizing how we interact with technology. From cutting-edge courses to practical applications, DeepLearning.AI offers a gateway to mastering deep learning. Whether you're a beginner or an expert, the platform provides the tools and resources needed to thrive in this rapidly evolving field. Join a community of like-minded individuals and embark on a journey towards innovation and discovery. Explore the endless possibilities with DeepLearning.AI and unlock the potential of AI today!\n",
      "\n",
      "--------------------------------------------------------------------------------\n",
      "\u001b[33mCritic\u001b[0m (to Writer):\n",
      "\n",
      "This blogpost effectively introduces readers to the world of DeepLearning.AI in a captivating and concise manner. However, it could benefit from more specific information about the unique features or standout courses offered by the platform. Including examples of success stories or highlighting key benefits could help engage the audience further and provide a clearer picture of what sets DeepLearning.AI apart. Adding a call-to-action at the end could also prompt readers to explore the platform and take action. Overall, enhancing the blogpost with more concrete details and a vibrant conclusion would strengthen its impact and effectiveness.\n",
      "\n",
      "--------------------------------------------------------------------------------\n",
      "\u001b[33mWriter\u001b[0m (to Critic):\n",
      "\n",
      "Title: Master Deep Learning with DeepLearning.AI\n",
      "\n",
      "Uncover the extraordinary world of DeepLearning.AI, a game-changer in the realm of artificial intelligence education. With top-tier courses and hands-on applications, this platform sets the stage for deep learning mastery. Whether you're a novice or a seasoned pro, DeepLearning.AI equips you with the resources to excel in this ever-evolving domain. Discover standout courses, like \"Neural Networks and Deep Learning,\" and \"Sequence Models,\" that propel your AI journey. Join a vibrant community, ignite your passion for innovation, and cultivate your AI skills. Ready to shape the future? Dive into DeepLearning.AI today!\n",
      "\n",
      "--------------------------------------------------------------------------------\n"
     ]
    }
   ],
   "source": [
    "res = critic.initiate_chat(\n",
    "    recipient=writer,\n",
    "    message=task,\n",
    "    max_turns=2,\n",
    "    summary_method=\"last_msg\"\n",
    ")"
   ]
  },
  {
   "cell_type": "markdown",
   "id": "e7b76449",
   "metadata": {},
   "source": [
    "## Nested chat"
   ]
  },
  {
   "cell_type": "code",
   "execution_count": 10,
   "id": "401ecf92-63e9-40ff-aeed-1c404352e4ab",
   "metadata": {
    "height": 200
   },
   "outputs": [
    {
     "name": "stdout",
     "output_type": "stream",
     "text": [
      "[autogen.oai.client: 01-18 16:44:14] {129} WARNING - The API key specified is not a valid OpenAI format; it won't work with the OpenAI-hosted model.\n"
     ]
    }
   ],
   "source": [
    "SEO_reviewer = autogen.AssistantAgent(\n",
    "    name=\"SEO Reviewer\",\n",
    "    llm_config=llm_config,\n",
    "    system_message=\"You are an SEO reviewer, known for \"\n",
    "        \"your ability to optimize content for search engines, \"\n",
    "        \"ensuring that it ranks well and attracts organic traffic. \" \n",
    "        \"Make sure your suggestion is concise (within 3 bullet points), \"\n",
    "        \"concrete and to the point. \"\n",
    "        \"Begin the review by stating your role.\",\n",
    ")\n"
   ]
  },
  {
   "cell_type": "code",
   "execution_count": 11,
   "id": "f85acb81-7ab9-4c84-b8bb-6fbae3dce848",
   "metadata": {
    "height": 183
   },
   "outputs": [
    {
     "name": "stdout",
     "output_type": "stream",
     "text": [
      "[autogen.oai.client: 01-18 16:44:15] {129} WARNING - The API key specified is not a valid OpenAI format; it won't work with the OpenAI-hosted model.\n"
     ]
    }
   ],
   "source": [
    "legal_reviewer = autogen.AssistantAgent(\n",
    "    name=\"Legal Reviewer\",\n",
    "    llm_config=llm_config,\n",
    "    system_message=\"You are a legal reviewer, known for \"\n",
    "        \"your ability to ensure that content is legally compliant \"\n",
    "        \"and free from any potential legal issues. \"\n",
    "        \"Make sure your suggestion is concise (within 3 bullet points), \"\n",
    "        \"concrete and to the point. \"\n",
    "        \"Begin the review by stating your role.\",\n",
    ")"
   ]
  },
  {
   "cell_type": "code",
   "execution_count": 12,
   "id": "d46a177a-8088-4956-8d2b-3e916b8ca5e9",
   "metadata": {
    "height": 183
   },
   "outputs": [
    {
     "name": "stdout",
     "output_type": "stream",
     "text": [
      "[autogen.oai.client: 01-18 16:44:16] {129} WARNING - The API key specified is not a valid OpenAI format; it won't work with the OpenAI-hosted model.\n"
     ]
    }
   ],
   "source": [
    "ethics_reviewer = autogen.AssistantAgent(\n",
    "    name=\"Ethics Reviewer\",\n",
    "    llm_config=llm_config,\n",
    "    system_message=\"You are an ethics reviewer, known for \"\n",
    "        \"your ability to ensure that content is ethically sound \"\n",
    "        \"and free from any potential ethical issues. \" \n",
    "        \"Make sure your suggestion is concise (within 3 bullet points), \"\n",
    "        \"concrete and to the point. \"\n",
    "        \"Begin the review by stating your role. \",\n",
    ")"
   ]
  },
  {
   "cell_type": "code",
   "execution_count": 13,
   "id": "a7b2ad6f-8ba6-436a-9459-14ffbe8a32d3",
   "metadata": {
    "height": 115
   },
   "outputs": [
    {
     "name": "stdout",
     "output_type": "stream",
     "text": [
      "[autogen.oai.client: 01-18 16:44:17] {129} WARNING - The API key specified is not a valid OpenAI format; it won't work with the OpenAI-hosted model.\n"
     ]
    }
   ],
   "source": [
    "meta_reviewer = autogen.AssistantAgent(\n",
    "    name=\"Meta Reviewer\",\n",
    "    llm_config=llm_config,\n",
    "    system_message=\"You are a meta reviewer, you aggragate and review \"\n",
    "    \"the work of other reviewers and give a final suggestion on the content.\",\n",
    ")"
   ]
  },
  {
   "cell_type": "markdown",
   "id": "913beca1",
   "metadata": {},
   "source": [
    "## Orchestrate the nested chats to solve the task"
   ]
  },
  {
   "cell_type": "code",
   "execution_count": 15,
   "id": "a11a70c7-19ca-4e5a-ad3d-f2b481fb5915",
   "metadata": {
    "height": 540
   },
   "outputs": [],
   "source": [
    "def reflection_message(recipient, messages, sender, config):\n",
    "    return f'''Review the following content. \n",
    "            \\n\\n {recipient.chat_messages_for_summary(sender)[-1]['content']}'''\n",
    "\n",
    "review_chats = [\n",
    "    {\n",
    "     \"recipient\": SEO_reviewer, \n",
    "     \"message\": reflection_message, \n",
    "     \"summary_method\": \"reflection_with_llm\",\n",
    "     \"summary_args\": {\"summary_prompt\" : \n",
    "        \"Return review into as JSON object only:\"\n",
    "        \"{'Reviewer': '', 'Review': ''}. Here Reviewer should be your role\",},\n",
    "     \"max_turns\": 1},\n",
    "    {\n",
    "    \"recipient\": legal_reviewer, \"message\": reflection_message, \n",
    "     \"summary_method\": \"reflection_with_llm\",\n",
    "     \"summary_args\": {\"summary_prompt\" : \n",
    "        \"Return review into as JSON object only:\"\n",
    "        \"{'Reviewer': '', 'Review': ''}.\",},\n",
    "     \"max_turns\": 1},\n",
    "    {\"recipient\": ethics_reviewer, \"message\": reflection_message, \n",
    "     \"summary_method\": \"reflection_with_llm\",\n",
    "     \"summary_args\": {\"summary_prompt\" : \n",
    "        \"Return review into as JSON object only:\"\n",
    "        \"{'reviewer': '', 'review': ''}\",},\n",
    "     \"max_turns\": 1},\n",
    "     {\"recipient\": meta_reviewer, \n",
    "      \"message\": \"Aggregrate feedback from all reviewers and give final suggestions on the writing.\", \n",
    "     \"max_turns\": 1},\n",
    "]\n"
   ]
  },
  {
   "cell_type": "code",
   "execution_count": 16,
   "id": "b3a40b66-5061-460d-ad9d-c0dbcfbba2e9",
   "metadata": {
    "height": 81
   },
   "outputs": [],
   "source": [
    "critic.register_nested_chats(\n",
    "    review_chats,\n",
    "    trigger=writer,\n",
    ")"
   ]
  },
  {
   "cell_type": "markdown",
   "id": "43b8797d",
   "metadata": {},
   "source": [
    "**Note**: You might get a slightly different response than what's shown in the video. Feel free to try different task."
   ]
  },
  {
   "cell_type": "code",
   "execution_count": 17,
   "id": "3b8dcac3-1e72-43b7-9d5a-1be740f6efd5",
   "metadata": {
    "height": 115
   },
   "outputs": [
    {
     "name": "stdout",
     "output_type": "stream",
     "text": [
      "\u001b[33mCritic\u001b[0m (to Writer):\n",
      "\n",
      "\n",
      "        Write a concise but engaging blogpost about\n",
      "       DeepLearning.AI. Make sure the blogpost is\n",
      "       within 100 words.\n",
      "       \n",
      "\n",
      "--------------------------------------------------------------------------------\n",
      "\u001b[33mWriter\u001b[0m (to Critic):\n",
      "\n",
      "Title: Unveiling the Power of DeepLearning.AI\n",
      "\n",
      "Dive into the world of artificial intelligence with DeepLearning.AI, a platform revolutionizing how we interact with technology. From cutting-edge courses to practical applications, DeepLearning.AI offers a gateway to mastering deep learning. Whether you're a beginner or an expert, the platform provides the tools and resources needed to thrive in this rapidly evolving field. Join a community of like-minded individuals and embark on a journey towards innovation and discovery. Explore the endless possibilities with DeepLearning.AI and unlock the potential of AI today!\n",
      "\n",
      "--------------------------------------------------------------------------------\n",
      "\u001b[34m\n",
      "********************************************************************************\u001b[0m\n",
      "\u001b[34mStarting a new chat....\u001b[0m\n",
      "\u001b[34m\n",
      "********************************************************************************\u001b[0m\n",
      "\u001b[33mCritic\u001b[0m (to SEO Reviewer):\n",
      "\n",
      "Review the following content. \n",
      "            \n",
      "\n",
      " Title: Unveiling the Power of DeepLearning.AI\n",
      "\n",
      "Dive into the world of artificial intelligence with DeepLearning.AI, a platform revolutionizing how we interact with technology. From cutting-edge courses to practical applications, DeepLearning.AI offers a gateway to mastering deep learning. Whether you're a beginner or an expert, the platform provides the tools and resources needed to thrive in this rapidly evolving field. Join a community of like-minded individuals and embark on a journey towards innovation and discovery. Explore the endless possibilities with DeepLearning.AI and unlock the potential of AI today!\n",
      "\n",
      "--------------------------------------------------------------------------------\n",
      "\u001b[33mSEO Reviewer\u001b[0m (to Critic):\n",
      "\n",
      "As an SEO reviewer:\n",
      "- Consider incorporating relevant keywords like \"artificial intelligence courses\" and \"deep learning platform\" in the title and throughout the content to enhance search engine visibility.\n",
      "- Add a meta description that succinctly summarizes the benefits of DeepLearning.AI, utilizing keywords to attract organic traffic.\n",
      "- Include internal links to specific course offerings or notable features within the content to improve user engagement and site structure for SEO.\n",
      "\n",
      "--------------------------------------------------------------------------------\n",
      "\u001b[34m\n",
      "********************************************************************************\u001b[0m\n",
      "\u001b[34mStarting a new chat....\u001b[0m\n",
      "\u001b[34m\n",
      "********************************************************************************\u001b[0m\n",
      "\u001b[33mCritic\u001b[0m (to Legal Reviewer):\n",
      "\n",
      "Review the following content. \n",
      "            \n",
      "\n",
      " Title: Unveiling the Power of DeepLearning.AI\n",
      "\n",
      "Dive into the world of artificial intelligence with DeepLearning.AI, a platform revolutionizing how we interact with technology. From cutting-edge courses to practical applications, DeepLearning.AI offers a gateway to mastering deep learning. Whether you're a beginner or an expert, the platform provides the tools and resources needed to thrive in this rapidly evolving field. Join a community of like-minded individuals and embark on a journey towards innovation and discovery. Explore the endless possibilities with DeepLearning.AI and unlock the potential of AI today!\n",
      "Context: \n",
      "{'Reviewer': 'SEO Reviewer', 'Review': 'The content could benefit from incorporating relevant keywords, optimizing the meta description, and adding internal links to improve SEO performance.'}\n",
      "\n",
      "--------------------------------------------------------------------------------\n",
      "\u001b[33mLegal Reviewer\u001b[0m (to Critic):\n",
      "\n",
      "As a Legal Reviewer:\n",
      "\n",
      "1. Ensure that the use of the term \"revolutionizing\" complies with advertising regulations to avoid any misleading claims.\n",
      "   \n",
      "2. Verify that any statements regarding the platform's capabilities in \"mastering deep learning\" are substantiated to prevent potential false advertising claims.\n",
      "   \n",
      "3. Confirm that all invitations to \"join a community\" are not misleading in terms of user data handling and privacy practices.\n",
      "\n",
      "--------------------------------------------------------------------------------\n",
      "\u001b[34m\n",
      "********************************************************************************\u001b[0m\n",
      "\u001b[34mStarting a new chat....\u001b[0m\n",
      "\u001b[34m\n",
      "********************************************************************************\u001b[0m\n",
      "\u001b[33mCritic\u001b[0m (to Ethics Reviewer):\n",
      "\n",
      "Review the following content. \n",
      "            \n",
      "\n",
      " Title: Unveiling the Power of DeepLearning.AI\n",
      "\n",
      "Dive into the world of artificial intelligence with DeepLearning.AI, a platform revolutionizing how we interact with technology. From cutting-edge courses to practical applications, DeepLearning.AI offers a gateway to mastering deep learning. Whether you're a beginner or an expert, the platform provides the tools and resources needed to thrive in this rapidly evolving field. Join a community of like-minded individuals and embark on a journey towards innovation and discovery. Explore the endless possibilities with DeepLearning.AI and unlock the potential of AI today!\n",
      "Context: \n",
      "{'Reviewer': 'SEO Reviewer', 'Review': 'The content could benefit from incorporating relevant keywords, optimizing the meta description, and adding internal links to improve SEO performance.'}\n",
      "{'Reviewer': 'Legal Reviewer', 'Review': 'Ensure that the use of the term \"revolutionizing\" complies with advertising regulations. Verify that any statements regarding the platform's capabilities are substantiated. Confirm that all invitations to \"join a community\" are not misleading in terms of user data handling and privacy practices.'}\n",
      "\n",
      "--------------------------------------------------------------------------------\n",
      "\u001b[33mEthics Reviewer\u001b[0m (to Critic):\n",
      "\n",
      "As an Ethics Reviewer, I recommend the following for the content:\n",
      "\n",
      "- Avoid using overly sensational language such as \"revolutionizing\" without substantiated evidence to ensure transparency and accuracy.\n",
      "- Provide clear information on how user data is handled within the community to ensure transparency and protect user privacy.\n",
      "- Ensure all statements regarding the platform's capabilities are accurate and can be substantiated to avoid misleading potential users.\n",
      "\n",
      "--------------------------------------------------------------------------------\n",
      "\u001b[34m\n",
      "********************************************************************************\u001b[0m\n",
      "\u001b[34mStarting a new chat....\u001b[0m\n",
      "\u001b[34m\n",
      "********************************************************************************\u001b[0m\n",
      "\u001b[33mCritic\u001b[0m (to Meta Reviewer):\n",
      "\n",
      "Aggregrate feedback from all reviewers and give final suggestions on the writing.\n",
      "Context: \n",
      "{'Reviewer': 'SEO Reviewer', 'Review': 'The content could benefit from incorporating relevant keywords, optimizing the meta description, and adding internal links to improve SEO performance.'}\n",
      "{'Reviewer': 'Legal Reviewer', 'Review': 'Ensure that the use of the term \"revolutionizing\" complies with advertising regulations. Verify that any statements regarding the platform's capabilities are substantiated. Confirm that all invitations to \"join a community\" are not misleading in terms of user data handling and privacy practices.'}\n",
      "{'reviewer': 'Ethics Reviewer', 'review': 'Avoid using overly sensational language such as \"revolutionizing\" without substantiated evidence to ensure transparency and accuracy. Provide clear information on how user data is handled within the community to ensure transparency and protect user privacy. Ensure all statements regarding the platform's capabilities are accurate and can be substantiated to avoid misleading potential users.'}\n",
      "\n",
      "--------------------------------------------------------------------------------\n",
      "\u001b[33mMeta Reviewer\u001b[0m (to Critic):\n",
      "\n",
      "Aggregated Feedback:\n",
      "1. SEO Reviewer: Recommend incorporating relevant keywords, optimizing meta description, and adding internal links for improved SEO performance.\n",
      "2. Legal Reviewer: Ensure compliance with advertising regulations, substantiate statements regarding platform capabilities, and clarify user data handling and privacy practices.\n",
      "3. Ethics Reviewer: Caution against sensational language without evidence, provide clear information on user data handling, and ensure accuracy in statements regarding platform capabilities.\n",
      "\n",
      "Final Suggestions:\n",
      "- Incorporate relevant keywords, optimize meta description, and add internal links for improved SEO.\n",
      "- Avoid sensational language without evidence to maintain transparency and accuracy.\n",
      "- Substantiate statements regarding platform capabilities to avoid misleading users.\n",
      "- Ensure compliance with advertising regulations and provide clear information on user data handling for transparency and privacy protection.\n",
      "\n",
      "Overall, the content should focus on accuracy, transparency, and compliance with regulations while enhancing SEO performance. Addressing these aspects will improve the quality and credibility of the writing.\n",
      "\n",
      "--------------------------------------------------------------------------------\n",
      "\u001b[33mCritic\u001b[0m (to Writer):\n",
      "\n",
      "Aggregated Feedback:\n",
      "1. SEO Reviewer: Recommend incorporating relevant keywords, optimizing meta description, and adding internal links for improved SEO performance.\n",
      "2. Legal Reviewer: Ensure compliance with advertising regulations, substantiate statements regarding platform capabilities, and clarify user data handling and privacy practices.\n",
      "3. Ethics Reviewer: Caution against sensational language without evidence, provide clear information on user data handling, and ensure accuracy in statements regarding platform capabilities.\n",
      "\n",
      "Final Suggestions:\n",
      "- Incorporate relevant keywords, optimize meta description, and add internal links for improved SEO.\n",
      "- Avoid sensational language without evidence to maintain transparency and accuracy.\n",
      "- Substantiate statements regarding platform capabilities to avoid misleading users.\n",
      "- Ensure compliance with advertising regulations and provide clear information on user data handling for transparency and privacy protection.\n",
      "\n",
      "Overall, the content should focus on accuracy, transparency, and compliance with regulations while enhancing SEO performance. Addressing these aspects will improve the quality and credibility of the writing.\n",
      "\n",
      "--------------------------------------------------------------------------------\n",
      "\u001b[33mWriter\u001b[0m (to Critic):\n",
      "\n",
      "Title: Navigating DeepLearning.AI: Unleashing AI's Potential Responsibly\n",
      "\n",
      "Embark on an AI journey with DeepLearning.AI's innovative platform reshaping tech interactions. Discover top-notch courses and applications, catering to all skill levels. Engage with a vibrant community for continuous learning and growth. Dive into the AI realm responsibly, ensuring transparency and accuracy in content. Embrace SEO best practices with optimized keywords, meta descriptions, and internal links. Uphold compliance with regulations and clarify user data handling for privacy. Unleash AI's potential ethically and confidently with DeepLearning.AI!\n",
      "\n",
      "--------------------------------------------------------------------------------\n"
     ]
    }
   ],
   "source": [
    "res = critic.initiate_chat(\n",
    "    recipient=writer,\n",
    "    message=task,\n",
    "    max_turns=2,\n",
    "    summary_method=\"last_msg\"\n",
    ")"
   ]
  },
  {
   "cell_type": "markdown",
   "id": "c5c833b0",
   "metadata": {},
   "source": [
    "## Get the summary"
   ]
  },
  {
   "cell_type": "code",
   "execution_count": 18,
   "id": "68ef82ed-f102-4964-b7be-60e2f258a39b",
   "metadata": {
    "height": 30
   },
   "outputs": [
    {
     "name": "stdout",
     "output_type": "stream",
     "text": [
      "Title: Navigating DeepLearning.AI: Unleashing AI's Potential Responsibly\n",
      "\n",
      "Embark on an AI journey with DeepLearning.AI's innovative platform reshaping tech interactions. Discover top-notch courses and applications, catering to all skill levels. Engage with a vibrant community for continuous learning and growth. Dive into the AI realm responsibly, ensuring transparency and accuracy in content. Embrace SEO best practices with optimized keywords, meta descriptions, and internal links. Uphold compliance with regulations and clarify user data handling for privacy. Unleash AI's potential ethically and confidently with DeepLearning.AI!\n"
     ]
    }
   ],
   "source": [
    "print(res.summary)"
   ]
  },
  {
   "cell_type": "code",
   "execution_count": null,
   "id": "4fb97b32-464f-49dc-990f-1a9c35cfbd7e",
   "metadata": {},
   "outputs": [],
   "source": []
  }
 ],
 "metadata": {
  "kernelspec": {
   "display_name": "Python 3 (ipykernel)",
   "language": "python",
   "name": "python3"
  },
  "language_info": {
   "codemirror_mode": {
    "name": "ipython",
    "version": 3
   },
   "file_extension": ".py",
   "mimetype": "text/x-python",
   "name": "python",
   "nbconvert_exporter": "python",
   "pygments_lexer": "ipython3",
   "version": "3.11.9"
  }
 },
 "nbformat": 4,
 "nbformat_minor": 5
}
