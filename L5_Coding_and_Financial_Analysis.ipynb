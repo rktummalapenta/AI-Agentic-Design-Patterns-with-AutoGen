{
 "cells": [
  {
   "cell_type": "markdown",
   "id": "eacbb70c",
   "metadata": {},
   "source": [
    "# Lesson 5: Coding and Financial Analysis"
   ]
  },
  {
   "cell_type": "markdown",
   "id": "babbc472",
   "metadata": {},
   "source": [
    "## Setup"
   ]
  },
  {
   "cell_type": "code",
   "execution_count": 1,
   "id": "b5613ba9-d387-4b7d-9670-ec2b6e4353be",
   "metadata": {
    "height": 30
   },
   "outputs": [],
   "source": [
    "from dotenv import load_dotenv, find_dotenv\n",
    "from utils import get_openai_api_key\n",
    "_ = load_dotenv(override=True)\n",
    "OPENAI_API_KEY = get_openai_api_key()\n",
    "llm_config = {\"model\": \"gpt-4-turbo\"}"
   ]
  },
  {
   "cell_type": "markdown",
   "id": "e4e8fd85",
   "metadata": {},
   "source": [
    "## Define a code executor"
   ]
  },
  {
   "cell_type": "code",
   "execution_count": 2,
   "id": "fb90a672-4318-47de-a061-384e68dd75c9",
   "metadata": {
    "height": 30
   },
   "outputs": [
    {
     "name": "stderr",
     "output_type": "stream",
     "text": [
      "/Users/ravikumartummalapenta/Documents/github/rktummalapenta/AI-Agents-in-LangGraph/.agents_env/lib/python3.11/site-packages/flaml/__init__.py:20: UserWarning: flaml.automl is not available. Please install flaml[automl] to enable AutoML functionalities.\n",
      "  warnings.warn(\"flaml.automl is not available. Please install flaml[automl] to enable AutoML functionalities.\")\n"
     ]
    }
   ],
   "source": [
    "from autogen.coding import LocalCommandLineCodeExecutor"
   ]
  },
  {
   "cell_type": "code",
   "execution_count": 3,
   "id": "b5cafee7-a0ac-4583-8201-5e19eb603138",
   "metadata": {
    "height": 81
   },
   "outputs": [],
   "source": [
    "executor = LocalCommandLineCodeExecutor(\n",
    "    timeout=60,\n",
    "    work_dir=\"coding\",\n",
    ")"
   ]
  },
  {
   "cell_type": "markdown",
   "id": "3b62a1a0",
   "metadata": {},
   "source": [
    "## Create agents "
   ]
  },
  {
   "cell_type": "code",
   "execution_count": 4,
   "id": "e6d9b3d6-9915-4fea-a853-512dfb77c4a5",
   "metadata": {
    "height": 30
   },
   "outputs": [],
   "source": [
    "from autogen import ConversableAgent, AssistantAgent"
   ]
  },
  {
   "cell_type": "markdown",
   "id": "b741b947",
   "metadata": {},
   "source": [
    "### 1. Agent with code executor configuration"
   ]
  },
  {
   "cell_type": "code",
   "execution_count": 5,
   "id": "57d286e5-b7b7-405a-b1d7-212c0cc84497",
   "metadata": {
    "height": 149
   },
   "outputs": [],
   "source": [
    "code_executor_agent = ConversableAgent(\n",
    "    name=\"code_executor_agent\",\n",
    "    llm_config=False,\n",
    "    code_execution_config={\"executor\": executor},\n",
    "    human_input_mode=\"ALWAYS\",\n",
    "    default_auto_reply=\n",
    "    \"Please continue. If everything is done, reply 'TERMINATE'.\",\n",
    ")"
   ]
  },
  {
   "cell_type": "markdown",
   "id": "c1eb1094",
   "metadata": {},
   "source": [
    "### 2. Agent with code writing capability"
   ]
  },
  {
   "cell_type": "code",
   "execution_count": 6,
   "id": "99c38c33-d335-48cd-96eb-cafe9ac70142",
   "metadata": {
    "height": 115
   },
   "outputs": [
    {
     "name": "stdout",
     "output_type": "stream",
     "text": [
      "[autogen.oai.client: 01-18 17:10:03] {129} WARNING - The API key specified is not a valid OpenAI format; it won't work with the OpenAI-hosted model.\n"
     ]
    }
   ],
   "source": [
    "code_writer_agent = AssistantAgent(\n",
    "    name=\"code_writer_agent\",\n",
    "    llm_config=llm_config,\n",
    "    code_execution_config=False,\n",
    "    human_input_mode=\"NEVER\",\n",
    ")"
   ]
  },
  {
   "cell_type": "code",
   "execution_count": 7,
   "id": "0fb1a62f-8dd2-4636-9103-b26ea27a29bd",
   "metadata": {
    "height": 30
   },
   "outputs": [],
   "source": [
    "code_writer_agent_system_message = code_writer_agent.system_message"
   ]
  },
  {
   "cell_type": "code",
   "execution_count": 8,
   "id": "7c8e9a04-55fb-4124-a9d0-3431274476d2",
   "metadata": {
    "height": 30
   },
   "outputs": [
    {
     "name": "stdout",
     "output_type": "stream",
     "text": [
      "You are a helpful AI assistant.\n",
      "Solve tasks using your coding and language skills.\n",
      "In the following cases, suggest python code (in a python coding block) or shell script (in a sh coding block) for the user to execute.\n",
      "    1. When you need to collect info, use the code to output the info you need, for example, browse or search the web, download/read a file, print the content of a webpage or a file, get the current date/time, check the operating system. After sufficient info is printed and the task is ready to be solved based on your language skill, you can solve the task by yourself.\n",
      "    2. When you need to perform some task with code, use the code to perform the task and output the result. Finish the task smartly.\n",
      "Solve the task step by step if you need to. If a plan is not provided, explain your plan first. Be clear which step uses code, and which step uses your language skill.\n",
      "When using code, you must indicate the script type in the code block. The user cannot provide any other feedback or perform any other action beyond executing the code you suggest. The user can't modify your code. So do not suggest incomplete code which requires users to modify. Don't use a code block if it's not intended to be executed by the user.\n",
      "If you want the user to save the code in a file before executing it, put # filename: <filename> inside the code block as the first line. Don't include multiple code blocks in one response. Do not ask users to copy and paste the result. Instead, use 'print' function for the output when relevant. Check the execution result returned by the user.\n",
      "If the result indicates there is an error, fix the error and output the code again. Suggest the full code instead of partial code or code changes. If the error can't be fixed or if the task is not solved even after the code is executed successfully, analyze the problem, revisit your assumption, collect additional info you need, and think of a different approach to try.\n",
      "When you find an answer, verify the answer carefully. Include verifiable evidence in your response if possible.\n",
      "Reply \"TERMINATE\" in the end when everything is done.\n",
      "    \n"
     ]
    }
   ],
   "source": [
    "print(code_writer_agent_system_message)"
   ]
  },
  {
   "cell_type": "markdown",
   "id": "f487b75a",
   "metadata": {},
   "source": [
    "## The task!\n",
    "\n",
    "Ask the two agents to collaborate on a stock analysis task."
   ]
  },
  {
   "cell_type": "code",
   "execution_count": 9,
   "id": "9cce0ba4-9fea-4d36-b4a0-a1e51fcd09a6",
   "metadata": {
    "height": 132
   },
   "outputs": [],
   "source": [
    "import datetime\n",
    "\n",
    "today = datetime.datetime.now().date()\n",
    "message = f\"Today is {today}. \"\\\n",
    "\"Create a plot showing stock gain YTD for NVDA and TLSA. \"\\\n",
    "\"Make sure the code is in markdown code block and save the figure\"\\\n",
    "\" to a file ytd_stock_gains.png.\"\"\""
   ]
  },
  {
   "cell_type": "markdown",
   "id": "4d02df6c",
   "metadata": {},
   "source": [
    "<p style=\"background-color:#ECECEC; padding:15px; \"> <b>Note:</b> In this lesson, you will use GPT 4 for better results. Please note that the lesson has a quota limit. If you want to explore the code in this lesson further, we recommend trying it locally with your own API key."
   ]
  },
  {
   "cell_type": "markdown",
   "id": "77fc5f1b",
   "metadata": {},
   "source": [
    "**Note**: You might see a different set of outputs than those shown in the video. The agents collaborate to generate the code needed for your task, and they might produce code with errors in the process. However, they will ultimately provide a correct code in the end."
   ]
  },
  {
   "cell_type": "code",
   "execution_count": 14,
   "id": "230bb9c0-9c80-498f-a05f-96cef11ddb4e",
   "metadata": {
    "height": 81
   },
   "outputs": [
    {
     "name": "stdout",
     "output_type": "stream",
     "text": [
      "\u001b[33mcode_executor_agent\u001b[0m (to code_writer_agent):\n",
      "\n",
      "Today is 2025-01-18. Create a plot showing stock gain YTD for NVDA and TLSA. Make sure the code is in markdown code block and save the figure to a file ytd_stock_gains.png.\n",
      "\n",
      "--------------------------------------------------------------------------------\n",
      "\u001b[33mcode_writer_agent\u001b[0m (to code_executor_agent):\n",
      "\n",
      "To create a plot showing the Year-To-Date (YTD) stock gain for companies, namely NVIDIA (NVDA) and Tesla (TSLA), you will need to follow these steps:\n",
      "\n",
      "1. Use Python and libraries like `pandas` to retrieve and handle stock data.\n",
      "2. Use `matplotlib` or any similar library for plotting.\n",
      "3. Save the plot to a file.\n",
      "\n",
      "First, I'll walk you through how to install the necessary Python libraries if you haven't already installed them:\n",
      "- `pandas` for data manipulation,\n",
      "- `matplotlib` for plotting graphs,\n",
      "- `yfinance` for downloading Yahoo Finance stock data.\n",
      "\n",
      "You can install these libraries using pip:\n",
      "```shell\n",
      "pip install pandas matplotlib yfinance\n",
      "```\n",
      "\n",
      "Now, I'll provide the Python code to retrieve the stock data for NVDA (NVIDIA Corporation) and TSLA (Tesla, Inc.), plot the YTD gain in % from January 1, 2025 to today (2025-01-18), and save the figure to `ytd_stock_gains.png`. Ensure you run this code in an environment where internet access is available since it fetches data from Yahoo Finance.\n",
      "\n",
      "```python\n",
      "# filename: plot_ytd_stock_gains.py\n",
      "\n",
      "import yfinance as yf\n",
      "import matplotlib.pyplot as plt\n",
      "import pandas as pd\n",
      "\n",
      "def fetch_data(stock_id, start_date):\n",
      "    data = yf.download(stock_id, start=start_date)\n",
      "    return data['Adj Close']\n",
      "\n",
      "def plot_ytd_gains():\n",
      "    start_date = '2025-01-01'\n",
      "    end_date = '2025-01-18'\n",
      "\n",
      "    nvda_data = fetch_data('NVDA', start_date)\n",
      "    tsla_data = fetch_data('TSLA', start_date)\n",
      "\n",
      "    nvda_gain = (nvda_data - nvda_data[0]) / nvda_data[0] * 100\n",
      "    tsla_gain = (tsla_data - tsla_data[0]) / tsla_data[0] * 100\n",
      "\n",
      "    plt.figure(figsize=(10, 6))\n",
      "    plt.plot(nvda_gain, label='NVDA', marker='o')\n",
      "    plt.plot(tsla_gain, label='TSLA', marker='o')\n",
      "    plt.title('YTD Stock Gains for NVDA and TSLA')\n",
      "    plt.xlabel('Date')\n",
      "    plt.ylabel('Gain (%)')\n",
      "    plt.legend()\n",
      "    plt.grid(True)\n",
      "    plt.savefig('ytd_stock_gains.png')\n",
      "    plt.show()\n",
      "\n",
      "plot_ytd_gains()\n",
      "```\n",
      "\n",
      "Please save this script into a Python file named \"plot_ytd_stock_gains.py\" and run it. It will fetch the required data, generate the plot, and save it as `ytd_stock_gains.png`.\n",
      "\n",
      "TERMINATE\n",
      "\n",
      "--------------------------------------------------------------------------------\n"
     ]
    },
    {
     "name": "stdin",
     "output_type": "stream",
     "text": [
      "Provide feedback to code_writer_agent. Press enter to skip and use auto-reply, or type 'exit' to end the conversation:  use december 2024 month data\n"
     ]
    },
    {
     "name": "stdout",
     "output_type": "stream",
     "text": [
      "\u001b[33mcode_executor_agent\u001b[0m (to code_writer_agent):\n",
      "\n",
      "use december 2024 month data\n",
      "\n",
      "--------------------------------------------------------------------------------\n",
      "\u001b[33mcode_writer_agent\u001b[0m (to code_executor_agent):\n",
      "\n",
      "Based on your request to use stock data from December 2024 to now (January 18, 2025) to calculate Year-To-Date (YTD) gains for NVDA and TSLA, let's adjust the previous script. After installing the necessary packages as described earlier, save the following updated Python script to compute the gains using December 2024 data:\n",
      "\n",
      "```python\n",
      "# filename: plot_ytd_stock_gains.py\n",
      "\n",
      "import yfinance as yf\n",
      "import matplotlib.pyplot as plt\n",
      "\n",
      "def fetch_and_plot_gains(stocks, start_date, end_date):\n",
      "    plt.figure(figsize=(10, 6))\n",
      "\n",
      "    for stock in stocks:\n",
      "        # Fetch data from Yahoo Finance\n",
      "        data = yf.download(stock, start=start_date, end=end_date)\n",
      "        # Calculate gain from the beginning of the period\n",
      "        initial_price = data['Adj Close'].iloc[0]\n",
      "        gains = (data['Adj Close'] / initial_price - 1) * 100\n",
      "\n",
      "        # Plot\n",
      "        plt.plot(gains, label=f'YTD Gain for {stock}')\n",
      "\n",
      "    plt.title('Stock Gains from December 2024 to January 18, 2025')\n",
      "    plt.xlabel('Date')\n",
      "    plt.ylabel('Percentage Gain (%)')\n",
      "    plt.legend()\n",
      "    plt.grid(True)\n",
      "    plt.savefig('ytd_stock_gains.png')\n",
      "    plt.show()\n",
      "\n",
      "# Define the stocks and date range\n",
      "stocks = ['NVDA', 'TSLA']\n",
      "start_date = '2024-12-01'\n",
      "end_date = '2025-01-18'\n",
      "\n",
      "fetch_and_plot_gains(stocks, start_date, end_date)\n",
      "```\n",
      "\n",
      "This script:\n",
      "1. Fetches historical stock data for NVIDIA (NVDA) and Tesla (TSLA) from December 1, 2024 to January 18, 2025.\n",
      "2. Calculates the percentage gain from the opening price on December 1, 2024.\n",
      "3. Plots these gains over the specified period.\n",
      "4. Saves the plot to a PNG file named `ytd_stock_gains.png`.\n",
      "\n",
      "Please ensure to run the script in a Python environment where `yfinance`, `matplotlib`, and `pandas` are installed. This will generate the requested plot showing the stock performance YTD from the beginning of December 2024.\n",
      "\n",
      "TERMINATE\n",
      "\n",
      "--------------------------------------------------------------------------------\n"
     ]
    },
    {
     "name": "stdin",
     "output_type": "stream",
     "text": [
      "Provide feedback to code_writer_agent. Press enter to skip and use auto-reply, or type 'exit' to end the conversation:  \n"
     ]
    },
    {
     "name": "stdout",
     "output_type": "stream",
     "text": [
      "\u001b[31m\n",
      ">>>>>>>> NO HUMAN INPUT RECEIVED.\u001b[0m\n",
      "\u001b[31m\n",
      ">>>>>>>> USING AUTO REPLY...\u001b[0m\n",
      "\u001b[31m\n",
      ">>>>>>>> EXECUTING CODE BLOCK (inferred language is python)...\u001b[0m\n",
      "\u001b[33mcode_executor_agent\u001b[0m (to code_writer_agent):\n",
      "\n",
      "exitcode: 1 (execution failed)\n",
      "Code output: \n",
      "[*********************100%***********************]  1 of 1 completed\n",
      "Traceback (most recent call last):\n",
      "  File \"/Users/ravikumartummalapenta/Documents/github/rktummalapenta/AI-Agents-in-LangGraph/.agents_env/lib/python3.11/site-packages/pandas/core/indexes/base.py\", line 3805, in get_loc\n",
      "    return self._engine.get_loc(casted_key)\n",
      "           ^^^^^^^^^^^^^^^^^^^^^^^^^^^^^^^^\n",
      "  File \"index.pyx\", line 167, in pandas._libs.index.IndexEngine.get_loc\n",
      "  File \"index.pyx\", line 196, in pandas._libs.index.IndexEngine.get_loc\n",
      "  File \"pandas/_libs/hashtable_class_helper.pxi\", line 7081, in pandas._libs.hashtable.PyObjectHashTable.get_item\n",
      "  File \"pandas/_libs/hashtable_class_helper.pxi\", line 7089, in pandas._libs.hashtable.PyObjectHashTable.get_item\n",
      "KeyError: 'Adj Close'\n",
      "\n",
      "The above exception was the direct cause of the following exception:\n",
      "\n",
      "Traceback (most recent call last):\n",
      "  File \"/Users/ravikumartummalapenta/Documents/github/rktummalapenta/AI-Agentic-Design-Patterns-with-AutoGen/coding/plot_ytd_stock_gains.py\", line 32, in <module>\n",
      "    fetch_and_plot_gains(stocks, start_date, end_date)\n",
      "  File \"/Users/ravikumartummalapenta/Documents/github/rktummalapenta/AI-Agentic-Design-Patterns-with-AutoGen/coding/plot_ytd_stock_gains.py\", line 13, in fetch_and_plot_gains\n",
      "    initial_price = data['Adj Close'].iloc[0]\n",
      "                    ~~~~^^^^^^^^^^^^^\n",
      "  File \"/Users/ravikumartummalapenta/Documents/github/rktummalapenta/AI-Agents-in-LangGraph/.agents_env/lib/python3.11/site-packages/pandas/core/frame.py\", line 4101, in __getitem__\n",
      "    return self._getitem_multilevel(key)\n",
      "           ^^^^^^^^^^^^^^^^^^^^^^^^^^^^^\n",
      "  File \"/Users/ravikumartummalapenta/Documents/github/rktummalapenta/AI-Agents-in-LangGraph/.agents_env/lib/python3.11/site-packages/pandas/core/frame.py\", line 4159, in _getitem_multilevel\n",
      "    loc = self.columns.get_loc(key)\n",
      "          ^^^^^^^^^^^^^^^^^^^^^^^^^\n",
      "  File \"/Users/ravikumartummalapenta/Documents/github/rktummalapenta/AI-Agents-in-LangGraph/.agents_env/lib/python3.11/site-packages/pandas/core/indexes/multi.py\", line 3040, in get_loc\n",
      "    loc = self._get_level_indexer(key, level=0)\n",
      "          ^^^^^^^^^^^^^^^^^^^^^^^^^^^^^^^^^^^^^\n",
      "  File \"/Users/ravikumartummalapenta/Documents/github/rktummalapenta/AI-Agents-in-LangGraph/.agents_env/lib/python3.11/site-packages/pandas/core/indexes/multi.py\", line 3391, in _get_level_indexer\n",
      "    idx = self._get_loc_single_level_index(level_index, key)\n",
      "          ^^^^^^^^^^^^^^^^^^^^^^^^^^^^^^^^^^^^^^^^^^^^^^^^^^\n",
      "  File \"/Users/ravikumartummalapenta/Documents/github/rktummalapenta/AI-Agents-in-LangGraph/.agents_env/lib/python3.11/site-packages/pandas/core/indexes/multi.py\", line 2980, in _get_loc_single_level_index\n",
      "    return level_index.get_loc(key)\n",
      "           ^^^^^^^^^^^^^^^^^^^^^^^^\n",
      "  File \"/Users/ravikumartummalapenta/Documents/github/rktummalapenta/AI-Agents-in-LangGraph/.agents_env/lib/python3.11/site-packages/pandas/core/indexes/base.py\", line 3812, in get_loc\n",
      "    raise KeyError(key) from err\n",
      "KeyError: 'Adj Close'\n",
      "\n",
      "\n",
      "--------------------------------------------------------------------------------\n",
      "\u001b[33mcode_writer_agent\u001b[0m (to code_executor_agent):\n",
      "\n",
      "The error you're encountering, `KeyError: 'Adj Close'`, suggests that the data frame returned by `yfinance` did not have an adjusted close price column labeled as `'Adj Close'`. This can sometimes result from API changes or discrepancies in data availability.\n",
      "\n",
      "I will update the code to include a check for column labels and ensure that the data is fetched correctly. Here's the updated Python script which also robustly handles potential column naming issues:\n",
      "\n",
      "```python\n",
      "# filename: plot_ytd_stock_gains.py\n",
      "\n",
      "import yfinance as yf\n",
      "import matplotlib.pyplot as plt\n",
      "import pandas as pd\n",
      "from pandas_datareader import data as pdr\n",
      "\n",
      "# Override yfinance with pandas_datareader\n",
      "yf.pdr_override()\n",
      "\n",
      "def fetch_and_plot_gains(stocks, start_date, end_date):\n",
      "    plt.figure(figsize=(10, 6))\n",
      "\n",
      "    for stock in stocks:\n",
      "        # Fetch data from Yahoo Finance\n",
      "        data = pdr.get_data_yahoo(stock, start=start_date, end=end_date)\n",
      "        # Check column availability and compute the gain\n",
      "        if 'Adj Close' in data.columns:\n",
      "            important_column = 'Adj Close'\n",
      "        elif 'Close' in data.columns:\n",
      "            important_column = 'Close'\n",
      "        else:\n",
      "            raise Exception(f\"No suitable price column found for {stock}\")\n",
      "\n",
      "        initial_price = data[important_column].iloc[0]\n",
      "        gains = (data[important_column] / initial_price - 1) * 100\n",
      "\n",
      "        # Plot\n",
      "        plt.plot(gains, label=f'YTD Gain for {stock}')\n",
      "\n",
      "    plt.title('Stock Gains from December 2024 to January 18, 2025')\n",
      "    plt.xlabel('Date')\n",
      "    plt.ylabel('Percentage Gain (%)')\n",
      "    plt.legend()\n",
      "    plt.grid(True)\n",
      "    plt.savefig('ytd_stock_gains.png')\n",
      "    plt.show()\n",
      "\n",
      "# Define the stocks and date range\n",
      "stocks = ['NVDA', 'TSLA']\n",
      "start_date = '2024-12-01'\n",
      "end_date = '2025-01-18'\n",
      "\n",
      "fetch_and_plot_gains(stocks, start_date, end_date)\n",
      "```\n",
      "\n",
      "Make sure to save this Python script and run it. This code now handles potential column naming discrepancies and uses `pandas_datareader` with an override to ensure it leverages `yfinance` effectively.\n",
      "\n",
      "TERMINATE\n",
      "\n",
      "--------------------------------------------------------------------------------\n"
     ]
    },
    {
     "name": "stdin",
     "output_type": "stream",
     "text": [
      "Provide feedback to code_writer_agent. Press enter to skip and use auto-reply, or type 'exit' to end the conversation:  use only december 2024vmonth data to load\n"
     ]
    },
    {
     "name": "stdout",
     "output_type": "stream",
     "text": [
      "\u001b[33mcode_executor_agent\u001b[0m (to code_writer_agent):\n",
      "\n",
      "use only december 2024vmonth data to load\n",
      "\n",
      "--------------------------------------------------------------------------------\n",
      "\u001b[33mcode_writer_agent\u001b[0m (to code_executor_agent):\n",
      "\n",
      "To focus on stock data specifically for December 2024, we need to ensure that the code fetches and plots data starting from December 1, 2024, and ending on December 31, 2024. Here's an updated Python script to reflect this change:\n",
      "\n",
      "```python\n",
      "# filename: plot_ytd_stock_gains.py\n",
      "\n",
      "import yfinance as yf\n",
      "import matplotlib.pyplot as plt\n",
      "\n",
      "def fetch_and_plot_gains(stocks, start_date, end_date):\n",
      "    plt.figure(figsize=(10, 6))\n",
      "\n",
      "    for stock in stocks:\n",
      "        # Fetch data from Yahoo Finance\n",
      "        data = yf.download(stock, start=start_date, end=end_date)\n",
      "        # Calculate gain from the beginning of the period\n",
      "        if 'Adj Close' in data.columns:\n",
      "            price_column = 'Adj Close'\n",
      "        else:\n",
      "            price_column = 'Close'  # Fallback in case 'Adj Close' is not available\n",
      "        initial_price = data[price_column].iloc[0]\n",
      "        gains = (data[price_column] / initial_price - 1) * 100\n",
      "\n",
      "        # Plot\n",
      "        plt.plot(gains.index, gains.values, label=f'{stock} (Gain %)')\n",
      "\n",
      "    plt.title('Stock Gains in December 2024')\n",
      "    plt.xlabel('Date')\n",
      "    plt.ylabel('Percentage Gain (%)')\n",
      "    plt.legend()\n",
      "    plt.grid(True)\n",
      "    plt.savefig('ytd_stock_gains.png')\n",
      "    plt.show()\n",
      "\n",
      "# Define the stocks and date range specifically for December 2024\n",
      "stocks = ['NVDA', 'TSLA']\n",
      "start_date = '2024-12-01'\n",
      "end_date = '2024-12-31'\n",
      "\n",
      "fetch_and_plot_gains(stocks, start_date, end_date)\n",
      "```\n",
      "\n",
      "Instructions:\n",
      "- Make sure to save this script as \"plot_ytd_stock_gains.py\".\n",
      "- The script focuses solely on December 2024's monthly stock data for both NVDA and TSLA.\n",
      "- It calculates the gains from the first trading day of December and plots them until the end of December 2024.\n",
      "- It will save the plot as 'ytd_stock_gains.png'.\n",
      "\n",
      "Please run this script in your Python environment to fetch the data for December 2024, plot it, and save it to the specified PNG file.\n",
      "\n",
      "TERMINATE\n",
      "\n",
      "--------------------------------------------------------------------------------\n"
     ]
    },
    {
     "name": "stdin",
     "output_type": "stream",
     "text": [
      "Provide feedback to code_writer_agent. Press enter to skip and use auto-reply, or type 'exit' to end the conversation:  \n"
     ]
    },
    {
     "name": "stdout",
     "output_type": "stream",
     "text": [
      "\u001b[31m\n",
      ">>>>>>>> NO HUMAN INPUT RECEIVED.\u001b[0m\n",
      "\u001b[31m\n",
      ">>>>>>>> USING AUTO REPLY...\u001b[0m\n",
      "\u001b[31m\n",
      ">>>>>>>> EXECUTING CODE BLOCK (inferred language is python)...\u001b[0m\n",
      "\u001b[33mcode_executor_agent\u001b[0m (to code_writer_agent):\n",
      "\n",
      "exitcode: 0 (execution succeeded)\n",
      "Code output: \n",
      "[*********************100%***********************]  1 of 1 completed\n",
      "\n",
      "[*********************100%***********************]  1 of 1 completed\n",
      "Figure(1000x600)\n",
      "\n",
      "\n",
      "--------------------------------------------------------------------------------\n",
      "\u001b[33mcode_writer_agent\u001b[0m (to code_executor_agent):\n",
      "\n",
      "Great! The script executed successfully, and it has fetched the stock data for December 2024, calculated the gains for NVIDIA (NVDA) and Tesla (TSLA) over the month, and plotted the results. The output file `ytd_stock_gains.png` should now contain the plot showing the percentage gains for both stocks throughout December 2024.\n",
      "\n",
      "You can check the folder where you ran the script for the `ytd_stock_gains.png` file to view the visual presentation of how the stocks performed during that month.\n",
      "\n",
      "If you have any more questions or need further assistance, feel free to ask!\n",
      "\n",
      "TERMINATE\n",
      "\n",
      "--------------------------------------------------------------------------------\n"
     ]
    },
    {
     "name": "stdin",
     "output_type": "stream",
     "text": [
      "Provide feedback to code_writer_agent. Press enter to skip and use auto-reply, or type 'exit' to end the conversation:  terminate\n"
     ]
    },
    {
     "name": "stdout",
     "output_type": "stream",
     "text": [
      "\u001b[33mcode_executor_agent\u001b[0m (to code_writer_agent):\n",
      "\n",
      "terminate\n",
      "\n",
      "--------------------------------------------------------------------------------\n",
      "\u001b[33mcode_writer_agent\u001b[0m (to code_executor_agent):\n",
      "\n",
      "TERMINATE\n",
      "\n",
      "--------------------------------------------------------------------------------\n"
     ]
    },
    {
     "name": "stdin",
     "output_type": "stream",
     "text": [
      "Provide feedback to code_writer_agent. Press enter to skip and use auto-reply, or type 'exit' to end the conversation:  exit\n"
     ]
    }
   ],
   "source": [
    "chat_result = code_executor_agent.initiate_chat(\n",
    "    code_writer_agent,\n",
    "    message=message,\n",
    ")"
   ]
  },
  {
   "cell_type": "markdown",
   "id": "9b0cbbdd",
   "metadata": {},
   "source": [
    "## Let's see the plot!\n",
    "\n",
    "**Note**: \n",
    "* Your plot might differ from the one shown in the video because the LLM's freestyle code generation could choose a different plot type, such as a bar plot. \n",
    "* You can re-run the previous cell and check the generated code. If it produces a bar plot, remember you can directly specify your preference by asking for a specific plot type instead of a bar plot."
   ]
  },
  {
   "cell_type": "code",
   "execution_count": 15,
   "id": "26804313-566f-42fb-9243-4e0c147f770b",
   "metadata": {
    "height": 81
   },
   "outputs": [
    {
     "data": {
      "image/png": "[encoded data removed]",
      "text/plain": [
       "<IPython.core.display.Image object>"
      ]
     },
     "execution_count": 15,
     "metadata": {},
     "output_type": "execute_result"
    }
   ],
   "source": [
    "import os\n",
    "from IPython.display import Image\n",
    "\n",
    "\n",
    "Image(os.path.join(\"coding\", \"ytd_stock_gains.png\"))"
   ]
  },
  {
   "cell_type": "markdown",
   "id": "ccf49d7e",
   "metadata": {},
   "source": [
    "**Note**: The agent will automatically save the code in a .py file and the plot in a .png file. To access and check the files generated by the agents, go to the `File` menu and select `Open....` Then, open the folder named `coding` to find all the generated files."
   ]
  },
  {
   "cell_type": "markdown",
   "id": "5aded8dc",
   "metadata": {},
   "source": [
    "## User-Defined Functions\n",
    "\n",
    "Instead of asking LLM to generate the code for downloading stock data \n",
    "and plotting charts each time, you can define functions for these two tasks and have LLM call these functions in the code."
   ]
  },
  {
   "cell_type": "code",
   "execution_count": 16,
   "id": "bca089a7-d85a-40ad-b33d-6a5318076c6e",
   "metadata": {
    "height": 387
   },
   "outputs": [],
   "source": [
    "def get_stock_prices(stock_symbols, start_date, end_date):\n",
    "    \"\"\"Get the stock prices for the given stock symbols between\n",
    "    the start and end dates.\n",
    "\n",
    "    Args:\n",
    "        stock_symbols (str or list): The stock symbols to get the\n",
    "        prices for.\n",
    "        start_date (str): The start date in the format \n",
    "        'YYYY-MM-DD'.\n",
    "        end_date (str): The end date in the format 'YYYY-MM-DD'.\n",
    "    \n",
    "    Returns:\n",
    "        pandas.DataFrame: The stock prices for the given stock\n",
    "        symbols indexed by date, with one column per stock \n",
    "        symbol.\n",
    "    \"\"\"\n",
    "    import yfinance\n",
    "\n",
    "    stock_data = yfinance.download(\n",
    "        stock_symbols, start=start_date, end=end_date\n",
    "    )\n",
    "    return stock_data.get(\"Close\")"
   ]
  },
  {
   "cell_type": "code",
   "execution_count": 17,
   "id": "5dff50a6-39ae-46a4-9b9c-e98c1550472b",
   "metadata": {
    "height": 336
   },
   "outputs": [],
   "source": [
    "def plot_stock_prices(stock_prices, filename):\n",
    "    \"\"\"Plot the stock prices for the given stock symbols.\n",
    "\n",
    "    Args:\n",
    "        stock_prices (pandas.DataFrame): The stock prices for the \n",
    "        given stock symbols.\n",
    "    \"\"\"\n",
    "    import matplotlib.pyplot as plt\n",
    "\n",
    "    plt.figure(figsize=(10, 5))\n",
    "    for column in stock_prices.columns:\n",
    "        plt.plot(\n",
    "            stock_prices.index, stock_prices[column], label=column\n",
    "                )\n",
    "    plt.title(\"Stock Prices\")\n",
    "    plt.xlabel(\"Date\")\n",
    "    plt.ylabel(\"Price\")\n",
    "    plt.grid(True)\n",
    "    plt.savefig(filename)"
   ]
  },
  {
   "cell_type": "markdown",
   "id": "63ff7175",
   "metadata": {},
   "source": [
    "### Create a new executor with the user-defined functions"
   ]
  },
  {
   "cell_type": "code",
   "execution_count": 18,
   "id": "452d315f-681d-4418-9cd0-653cc8d6a668",
   "metadata": {
    "height": 98
   },
   "outputs": [],
   "source": [
    "executor = LocalCommandLineCodeExecutor(\n",
    "    timeout=60,\n",
    "    work_dir=\"coding\",\n",
    "    functions=[get_stock_prices, plot_stock_prices],\n",
    ")"
   ]
  },
  {
   "cell_type": "code",
   "execution_count": 19,
   "id": "b95b30ad-1e6d-4d88-9a6c-2b0f11b625e4",
   "metadata": {
    "height": 47
   },
   "outputs": [
    {
     "name": "stdout",
     "output_type": "stream",
     "text": [
      "You are a helpful AI assistant.\n",
      "Solve tasks using your coding and language skills.\n",
      "In the following cases, suggest python code (in a python coding block) or shell script (in a sh coding block) for the user to execute.\n",
      "    1. When you need to collect info, use the code to output the info you need, for example, browse or search the web, download/read a file, print the content of a webpage or a file, get the current date/time, check the operating system. After sufficient info is printed and the task is ready to be solved based on your language skill, you can solve the task by yourself.\n",
      "    2. When you need to perform some task with code, use the code to perform the task and output the result. Finish the task smartly.\n",
      "Solve the task step by step if you need to. If a plan is not provided, explain your plan first. Be clear which step uses code, and which step uses your language skill.\n",
      "When using code, you must indicate the script type in the code block. The user cannot provide any other feedback or perform any other action beyond executing the code you suggest. The user can't modify your code. So do not suggest incomplete code which requires users to modify. Don't use a code block if it's not intended to be executed by the user.\n",
      "If you want the user to save the code in a file before executing it, put # filename: <filename> inside the code block as the first line. Don't include multiple code blocks in one response. Do not ask users to copy and paste the result. Instead, use 'print' function for the output when relevant. Check the execution result returned by the user.\n",
      "If the result indicates there is an error, fix the error and output the code again. Suggest the full code instead of partial code or code changes. If the error can't be fixed or if the task is not solved even after the code is executed successfully, analyze the problem, revisit your assumption, collect additional info you need, and think of a different approach to try.\n",
      "When you find an answer, verify the answer carefully. Include verifiable evidence in your response if possible.\n",
      "Reply \"TERMINATE\" in the end when everything is done.\n",
      "    You have access to the following user defined functions. They can be accessed from the module called `functions` by their function names.\n",
      "\n",
      "For example, if there was a function called `foo` you could import it by writing `from functions import foo`\n",
      "\n",
      "def get_stock_prices(stock_symbols, start_date, end_date):\n",
      "    \"\"\"Get the stock prices for the given stock symbols between\n",
      "        the start and end dates.\n",
      "\n",
      "        Args:\n",
      "            stock_symbols (str or list): The stock symbols to get the\n",
      "            prices for.\n",
      "            start_date (str): The start date in the format \n",
      "            'YYYY-MM-DD'.\n",
      "            end_date (str): The end date in the format 'YYYY-MM-DD'.\n",
      "\n",
      "        Returns:\n",
      "            pandas.DataFrame: The stock prices for the given stock\n",
      "            symbols indexed by date, with one column per stock \n",
      "            symbol.\n",
      "    \"\"\"\n",
      "    ...\n",
      "\n",
      "def plot_stock_prices(stock_prices, filename):\n",
      "    \"\"\"Plot the stock prices for the given stock symbols.\n",
      "\n",
      "        Args:\n",
      "            stock_prices (pandas.DataFrame): The stock prices for the \n",
      "            given stock symbols.\n",
      "    \"\"\"\n",
      "    ...\n"
     ]
    }
   ],
   "source": [
    "code_writer_agent_system_message += executor.format_functions_for_prompt()\n",
    "print(code_writer_agent_system_message)"
   ]
  },
  {
   "cell_type": "markdown",
   "id": "64d3cc77",
   "metadata": {},
   "source": [
    "### Let's update the agents with the new system message"
   ]
  },
  {
   "cell_type": "code",
   "execution_count": 20,
   "id": "615c02b0-0175-442e-bed2-52bb35b8945c",
   "metadata": {
    "height": 132
   },
   "outputs": [
    {
     "name": "stdout",
     "output_type": "stream",
     "text": [
      "[autogen.oai.client: 01-18 17:39:38] {129} WARNING - The API key specified is not a valid OpenAI format; it won't work with the OpenAI-hosted model.\n"
     ]
    }
   ],
   "source": [
    "code_writer_agent = ConversableAgent(\n",
    "    name=\"code_writer_agent\",\n",
    "    system_message=code_writer_agent_system_message,\n",
    "    llm_config=llm_config,\n",
    "    code_execution_config=False,\n",
    "    human_input_mode=\"NEVER\",\n",
    ")"
   ]
  },
  {
   "cell_type": "code",
   "execution_count": 21,
   "id": "a9a725b0-9bb6-47e3-85df-27d9aadc9290",
   "metadata": {
    "height": 149
   },
   "outputs": [],
   "source": [
    "code_executor_agent = ConversableAgent(\n",
    "    name=\"code_executor_agent\",\n",
    "    llm_config=False,\n",
    "    code_execution_config={\"executor\": executor},\n",
    "    human_input_mode=\"ALWAYS\",\n",
    "    default_auto_reply=\n",
    "    \"Please continue. If everything is done, reply 'TERMINATE'.\",\n",
    ")"
   ]
  },
  {
   "cell_type": "markdown",
   "id": "e8d7b57c",
   "metadata": {},
   "source": [
    "### Start the same task again!"
   ]
  },
  {
   "cell_type": "code",
   "execution_count": 22,
   "id": "8895bb51-bcdd-4f63-a49f-858fc25c474f",
   "metadata": {
    "height": 132
   },
   "outputs": [
    {
     "name": "stdout",
     "output_type": "stream",
     "text": [
      "\u001b[33mcode_executor_agent\u001b[0m (to code_writer_agent):\n",
      "\n",
      "Today is 2025-01-18.Download the stock prices YTD for NVDA and TSLA and createa plot. Make sure the code is in markdown code block and save the figure to a file stock_prices_YTD_plot.png.\n",
      "\n",
      "--------------------------------------------------------------------------------\n",
      "\u001b[33mcode_writer_agent\u001b[0m (to code_executor_agent):\n",
      "\n",
      "Let's break down this task into a few steps:\n",
      "\n",
      "1. Import necessary functions and modules.\n",
      "2. Define the stock symbols and YTD (Year-To-Date) dates.\n",
      "3. Download stock prices for NVDA and TSLA from the beginning of the year to today.\n",
      "4. Plot the stock prices.\n",
      "5. Save the plot to a file named \"stock_prices_YTD_plot.png\".\n",
      "\n",
      "Here is the complete Python script to achieve this:\n",
      "\n",
      "```python\n",
      "# filename: download_and_plot_stocks.py\n",
      "from functions import get_stock_prices, plot_stock_prices\n",
      "import pandas as pd\n",
      "\n",
      "# Define stock symbols and date range for YTD\n",
      "symbols = ['NVDA', 'TSLA']\n",
      "start_date = '2025-01-01'\n",
      "end_date = '2025-01-18'  # Today's date\n",
      "\n",
      "# Get the stock prices YTD\n",
      "stock_prices = get_stock_prices(symbols, start_date, end_date)\n",
      "\n",
      "# Plot and save the stock prices to file\n",
      "plot_stock_prices(stock_prices, 'stock_prices_YTD_plot.png')\n",
      "```\n",
      "\n",
      "Please save the provided code into a Python script file named `download_and_plot_stocks.py` and execute it. This script will carry out the necessary operations to download the required stock data, plot it, and save the plot to `stock_prices_YTD_plot.png`.\n",
      "\n",
      "--------------------------------------------------------------------------------\n"
     ]
    },
    {
     "name": "stdin",
     "output_type": "stream",
     "text": [
      "Provide feedback to code_writer_agent. Press enter to skip and use auto-reply, or type 'exit' to end the conversation:  use only december 2024 month data only\n"
     ]
    },
    {
     "name": "stdout",
     "output_type": "stream",
     "text": [
      "\u001b[33mcode_executor_agent\u001b[0m (to code_writer_agent):\n",
      "\n",
      "use only december 2024 month data only\n",
      "\n",
      "--------------------------------------------------------------------------------\n",
      "\u001b[33mcode_writer_agent\u001b[0m (to code_executor_agent):\n",
      "\n",
      "Let's update the previous script to consider only December 2024 data for the stocks NVDA and TSLA and save the plot accordingly. Here's the updated Python script:\n",
      "\n",
      "```python\n",
      "# filename: download_and_plot_stocks_december.py\n",
      "from functions import get_stock_prices, plot_stock_prices\n",
      "import pandas as pd\n",
      "\n",
      "# Define stock symbols and date range for December 2024\n",
      "symbols = ['NVDA', 'TSLA']\n",
      "start_date = '2024-12-01'\n",
      "end_date = '2024-12-31'\n",
      "\n",
      "# Get the stock prices for December 2024\n",
      "stock_prices = get_stock_prices(symbols, start_date, end_date)\n",
      "\n",
      "# Plot and save the stock prices to file\n",
      "plot_stock_prices(stock_prices, 'stock_prices_December_2024_plot.png')\n",
      "```\n",
      "\n",
      "Please save this code into a Python script file named `download_and_plot_stocks_december.py` and execute it. This script will now focus on retrieving stock price data for December 2024, plotting it, and saving the plot as `stock_prices_December_2024_plot.png`.\n",
      "\n",
      "--------------------------------------------------------------------------------\n"
     ]
    },
    {
     "name": "stdin",
     "output_type": "stream",
     "text": [
      "Provide feedback to code_writer_agent. Press enter to skip and use auto-reply, or type 'exit' to end the conversation:  \n"
     ]
    },
    {
     "name": "stdout",
     "output_type": "stream",
     "text": [
      "\u001b[31m\n",
      ">>>>>>>> NO HUMAN INPUT RECEIVED.\u001b[0m\n",
      "\u001b[31m\n",
      ">>>>>>>> USING AUTO REPLY...\u001b[0m\n",
      "\u001b[31m\n",
      ">>>>>>>> EXECUTING CODE BLOCK (inferred language is python)...\u001b[0m\n",
      "\u001b[33mcode_executor_agent\u001b[0m (to code_writer_agent):\n",
      "\n",
      "exitcode: 0 (execution succeeded)\n",
      "Code output: \n",
      "[                       0%                       ]\n",
      "[*********************100%***********************]  2 of 2 completed\n",
      "\n",
      "\n",
      "--------------------------------------------------------------------------------\n",
      "\u001b[33mcode_writer_agent\u001b[0m (to code_executor_agent):\n",
      "\n",
      "The script has executed successfully and the stock prices for NVDA and TSLA for December 2024 have been retrieved, plotted, and saved to the file \"stock_prices_December_2024_plot.png\".\n",
      "\n",
      "If you need any further assistance or another task, feel free to ask. Otherwise, everything appears to be completed successfully.\n",
      "\n",
      "TERMINATE\n",
      "\n",
      "--------------------------------------------------------------------------------\n"
     ]
    },
    {
     "name": "stdin",
     "output_type": "stream",
     "text": [
      "Provide feedback to code_writer_agent. Press enter to skip and use auto-reply, or type 'exit' to end the conversation:  exit\n"
     ]
    }
   ],
   "source": [
    "chat_result = code_executor_agent.initiate_chat(\n",
    "    code_writer_agent,\n",
    "    message=f\"Today is {today}.\"\n",
    "    \"Download the stock prices YTD for NVDA and TSLA and create\"\n",
    "    \"a plot. Make sure the code is in markdown code block and \"\n",
    "    \"save the figure to a file stock_prices_YTD_plot.png.\",\n",
    ")"
   ]
  },
  {
   "cell_type": "markdown",
   "id": "3c4bb718",
   "metadata": {},
   "source": [
    "### Plot the results"
   ]
  },
  {
   "cell_type": "code",
   "execution_count": 24,
   "id": "a930c007-dd56-4da6-b542-902312ed27dd",
   "metadata": {
    "height": 30
   },
   "outputs": [
    {
     "data": {
      "image/png": "[encoded data removed]",
      "text/plain": [
       "<IPython.core.display.Image object>"
      ]
     },
     "execution_count": 24,
     "metadata": {},
     "output_type": "execute_result"
    }
   ],
   "source": [
    "Image(os.path.join(\"coding\", \"stock_prices_December_2024_plot.png\"))"
   ]
  },
  {
   "cell_type": "markdown",
   "id": "c65bac5e",
   "metadata": {},
   "source": [
    "**Note**: The agent will automatically save the code in a .py file and the plot in a .png file. To access and check the files generated by the agents, go to the `File` menu and select `Open....` Then, open the folder named `coding` to find all the generated files."
   ]
  },
  {
   "cell_type": "code",
   "execution_count": null,
   "id": "0e8e58e6-9f3b-46be-bec8-a12639e70b1c",
   "metadata": {},
   "outputs": [],
   "source": []
  }
 ],
 "metadata": {
  "kernelspec": {
   "display_name": "Python 3 (ipykernel)",
   "language": "python",
   "name": "python3"
  },
  "language_info": {
   "codemirror_mode": {
    "name": "ipython",
    "version": 3
   },
   "file_extension": ".py",
   "mimetype": "text/x-python",
   "name": "python",
   "nbconvert_exporter": "python",
   "pygments_lexer": "ipython3",
   "version": "3.11.9"
  }
 },
 "nbformat": 4,
 "nbformat_minor": 5
}
